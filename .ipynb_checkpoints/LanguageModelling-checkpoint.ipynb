{
 "cells": [
  {
   "cell_type": "markdown",
   "metadata": {},
   "source": [
    "# Language Modelling"
   ]
  },
  {
   "cell_type": "code",
   "execution_count": 84,
   "metadata": {
    "collapsed": true
   },
   "outputs": [],
   "source": [
    "# Import Statements\n",
    "\n",
    "import pandas as pd\n",
    "import numpy as np\n",
    "\n",
    "import torch, torch.nn as nn\n",
    "from torch.autograd import Variable\n",
    "\n",
    "import nltk\n",
    "from nltk import word_tokenize\n",
    "import re\n",
    "from collections import Counter\n",
    "\n",
    "np.set_printoptions(threshold=np.nan)"
   ]
  },
  {
   "cell_type": "markdown",
   "metadata": {},
   "source": [
    "## Load Data"
   ]
  },
  {
   "cell_type": "code",
   "execution_count": 59,
   "metadata": {},
   "outputs": [
    {
     "name": "stdout",
     "output_type": "stream",
     "text": [
      "Data loaded.\n"
     ]
    }
   ],
   "source": [
    "yelp_train = pd.read_csv('./yelp-train.txt', sep='\\t', encoding='latin-1', header=None)\n",
    "yelp_train_y = yelp_train[:][1]\n",
    "yelp_valid = pd.read_csv('./yelp-valid.txt', sep='\\t', encoding='latin-1', header=None)\n",
    "yelp_valid_y = yelp_valid[:][1]\n",
    "yelp_test = pd.read_csv('./yelp-test.txt', sep='\\t', encoding='latin-1', header=None)\n",
    "yelp_test_y = yelp_test[:][1]\n",
    "\n",
    "print(\"Data loaded.\")"
   ]
  },
  {
   "cell_type": "code",
   "execution_count": 64,
   "metadata": {},
   "outputs": [
    {
     "data": {
      "text/plain": [
       "\"I can't believe I haven't yelped about the place yet. Several months (maybe over a year?) ago my husband read a newspaper article about the Clover coffee maker and the one place in town that had managed to procure one. I was skeptical (as is my nature). It can't be that much better right? You're just saying it's amazing because you want to talk about the new hot coffee shop you discovered, right? Well, maybe. But I love this place. And I don't think it has a whole lot to do with the Clover. They roast their own beans and they roast them way differently than that other ginormous coffee chain - all a light or medium roast. Never bitter, never oily, never yucky. The coffee they make there is, obviously, the best. But I send my husband in every week now to buy a pound of beans so that I can approximate the same coffee at home. Add an edgy (though sometimes intimidating) seating area, great local art (which we bought off the wall), and smiley service...I'm sold. Can't wait to try out the downtown location.\""
      ]
     },
     "execution_count": 64,
     "metadata": {},
     "output_type": "execute_result"
    }
   ],
   "source": [
    "yelp_train[:][0][0]"
   ]
  },
  {
   "cell_type": "markdown",
   "metadata": {},
   "source": [
    "## Data Preparation"
   ]
  },
  {
   "cell_type": "code",
   "execution_count": 50,
   "metadata": {
    "collapsed": true
   },
   "outputs": [],
   "source": [
    "\n",
    "def pre_processing(data):\n",
    "    new_data = []\n",
    "    #i = 0\n",
    "    for sentence in (data[:][0]):\n",
    "        new_sentence = re.sub('<.*?>', '', sentence) # remove HTML tags\n",
    "        new_sentence = re.sub(r'[^\\w\\s]', '', new_sentence) # remove punctuation\n",
    "        new_sentence = new_sentence.lower() # convert to lower case\n",
    "        if new_sentence != '':\n",
    "            new_data.append(new_sentence)\n",
    "    return new_data\n"
   ]
  },
  {
   "cell_type": "code",
   "execution_count": 69,
   "metadata": {},
   "outputs": [],
   "source": [
    "train_x = pre_processing(yelp_train)"
   ]
  },
  {
   "cell_type": "code",
   "execution_count": 72,
   "metadata": {},
   "outputs": [
    {
     "data": {
      "text/plain": [
       "'i cant believe i havent yelped about the place yet several months maybe over a year ago my husband read a newspaper article about the clover coffee maker and the one place in town that had managed to procure one i was skeptical as is my nature it cant be that much better right youre just saying its amazing because you want to talk about the new hot coffee shop you discovered right well maybe but i love this place and i dont think it has a whole lot to do with the clover they roast their own beans and they roast them way differently than that other ginormous coffee chain  all a light or medium roast never bitter never oily never yucky the coffee they make there is obviously the best but i send my husband in every week now to buy a pound of beans so that i can approximate the same coffee at home add an edgy though sometimes intimidating seating area great local art which we bought off the wall and smiley serviceim sold cant wait to try out the downtown location'"
      ]
     },
     "execution_count": 72,
     "metadata": {},
     "output_type": "execute_result"
    }
   ],
   "source": [
    "train_x[0]"
   ]
  },
  {
   "cell_type": "code",
   "execution_count": 74,
   "metadata": {
    "collapsed": true
   },
   "outputs": [],
   "source": [
    "\n",
    "def tokenize(data):\n",
    "    new_data = []\n",
    "    for sentence in (data):\n",
    "        new_sentence = nltk.word_tokenize(sentence)\n",
    "        new_data.append(new_sentence)\n",
    "    return new_data\n",
    "        "
   ]
  },
  {
   "cell_type": "code",
   "execution_count": 85,
   "metadata": {},
   "outputs": [],
   "source": [
    "train_x_tokenized = tokenize(train_x)"
   ]
  },
  {
   "cell_type": "code",
   "execution_count": 86,
   "metadata": {},
   "outputs": [
    {
     "data": {
      "text/plain": [
       "['i',\n",
       " 'cant',\n",
       " 'believe',\n",
       " 'i',\n",
       " 'havent',\n",
       " 'yelped',\n",
       " 'about',\n",
       " 'the',\n",
       " 'place',\n",
       " 'yet']"
      ]
     },
     "execution_count": 86,
     "metadata": {},
     "output_type": "execute_result"
    }
   ],
   "source": [
    "train_x_tokenized[0][:10]"
   ]
  },
  {
   "cell_type": "code",
   "execution_count": 82,
   "metadata": {
    "collapsed": true
   },
   "outputs": [],
   "source": [
    "def takeSecond(elem):\n",
    "    return elem[1]\n",
    "\n",
    "def frequency(tokens):\n",
    "    # combine all the tokens into one list\n",
    "    new = sum(tokens, [])\n",
    "    frequency = list(Counter(new).items())\n",
    "    frequency = sorted(frequency, key=takeSecond, reverse=True)\n",
    "    return frequency"
   ]
  },
  {
   "cell_type": "code",
   "execution_count": 93,
   "metadata": {},
   "outputs": [],
   "source": [
    "freq = frequency(train_x_tokenized)[:10000] #specify how many words to be considered"
   ]
  },
  {
   "cell_type": "code",
   "execution_count": 103,
   "metadata": {},
   "outputs": [],
   "source": [
    "def make_lookup_table(vocab):\n",
    "    yelp_dic = {}\n",
    "    for i in range(0,len(vocab)):\n",
    "        yelp_dic[vocab[i][0]] = [i+1]\n",
    "    return yelp_dic"
   ]
  },
  {
   "cell_type": "code",
   "execution_count": 106,
   "metadata": {
    "collapsed": true
   },
   "outputs": [],
   "source": [
    "# Index by frequency\n",
    "dic = make_lookup_table(freq)"
   ]
  },
  {
   "cell_type": "code",
   "execution_count": 109,
   "metadata": {},
   "outputs": [
    {
     "name": "stdout",
     "output_type": "stream",
     "text": [
      "tensor([[[ 0.2624, -0.8028,  0.9173, -0.7209,  0.4542]]])\n"
     ]
    }
   ],
   "source": [
    "embeds = nn.Embedding(2, 5)  # 2 words in vocab, 5 dimensional embeddings\n",
    "lookup_tensor = torch.tensor([dic[\"the\"]], dtype=torch.long)\n",
    "hello_embed = embeds(lookup_tensor)\n",
    "print(hello_embed)"
   ]
  },
  {
   "cell_type": "markdown",
   "metadata": {},
   "source": [
    "## Model"
   ]
  },
  {
   "cell_type": "code",
   "execution_count": 111,
   "metadata": {},
   "outputs": [],
   "source": [
    "text = train_x_tokenized[0]\n",
    "seq_len = len(text)\n",
    "batch_size = 1\n",
    "embedding_size = 1\n",
    "hidden_size = 1\n",
    "output_size = 1\n",
    "\n",
    "random_input = Variable(torch.FloatTensor(seq_len, batch_size, embedding_size).normal_(), requires_grad=False)\n"
   ]
  },
  {
   "cell_type": "code",
   "execution_count": 112,
   "metadata": {},
   "outputs": [
    {
     "data": {
      "text/plain": [
       "tensor([-1.3207, -0.1310,  1.2490,  0.7213, -1.6344, -0.9395,  1.2265,\n",
       "        -0.6407,  0.9623,  0.2786, -1.7617,  0.1556,  0.7590, -1.6019,\n",
       "         0.8350, -1.8381,  0.2009,  1.1187, -1.4306, -0.6751, -0.9802,\n",
       "         0.3807, -0.0162, -0.7463, -0.8346, -0.6716,  1.5187,  0.4423,\n",
       "        -1.0981,  0.1766,  0.2496, -0.1605,  1.0259,  1.5697,  0.5326,\n",
       "         0.4253,  0.5420, -0.5488, -1.0993,  1.1145,  0.3469, -1.2564,\n",
       "         0.3100,  1.0544, -1.5434, -0.2634,  0.4639, -0.6840, -0.7264,\n",
       "        -0.1945, -0.0794,  0.3472,  1.0317, -0.4769,  1.6535,  1.2891,\n",
       "        -0.8668,  0.0804,  0.9067,  1.7320, -1.3870, -0.7153, -0.3140,\n",
       "        -0.2806,  0.1906,  0.4073, -0.6895,  1.3528, -0.9858,  0.9516,\n",
       "         0.1824, -0.9128,  1.5177, -1.7726, -0.0343, -1.9834, -1.8461,\n",
       "         0.3753, -0.7929,  0.4515, -0.6812, -1.1121,  0.4339, -0.1815,\n",
       "        -0.2282,  0.8527,  0.3436, -0.8154, -1.1563, -0.5654, -1.2219,\n",
       "         0.6119,  0.4273,  1.0082,  1.2205, -0.8598,  1.0804,  0.4001,\n",
       "         2.1435,  0.7127, -0.2086, -0.0455, -0.5483,  0.3320,  0.2446,\n",
       "         0.4773,  0.2841, -0.4727,  0.4381, -1.0448,  0.2893,  3.2298,\n",
       "         1.1052,  0.7321,  0.8008,  0.2490,  1.4788,  0.7665, -0.1562,\n",
       "         0.1187,  1.6683,  1.4660,  0.3195, -0.8479,  0.0560,  0.1750,\n",
       "         1.5504, -1.0375, -1.2479, -0.3220,  1.2787, -0.2277,  0.4140,\n",
       "         0.7167,  0.7764,  1.1990,  2.0933, -0.9025,  1.1170, -0.3881,\n",
       "         0.6058, -0.3892,  0.2776,  1.6985,  1.1041, -0.5507, -1.3538,\n",
       "         1.2224, -1.2203,  0.6582,  0.5386,  2.5757, -0.0566, -0.2277,\n",
       "         0.7847,  0.3296,  1.6957, -0.7129, -0.0493, -2.0980,  0.4940,\n",
       "         1.0780, -0.3824,  0.8742,  1.8552,  0.6371,  0.8868,  0.6058,\n",
       "         0.5643, -0.1991, -1.6796,  0.1322,  0.1628, -0.1731, -0.4909,\n",
       "         0.0636, -0.4764, -0.3957, -0.5087, -0.2233, -0.4651, -0.0868,\n",
       "        -0.0582, -0.6076, -1.2738, -0.2347])"
      ]
     },
     "execution_count": 112,
     "metadata": {},
     "output_type": "execute_result"
    }
   ],
   "source": [
    "random_input[:, 0, 0]"
   ]
  },
  {
   "cell_type": "code",
   "execution_count": 113,
   "metadata": {},
   "outputs": [],
   "source": [
    "\n",
    "bi_rnn = torch.nn.RNN(input_size=embedding_size, hidden_size=hidden_size, num_layers=1, batch_first=False, bidirectional=True)\n",
    "\n",
    "bi_output, bi_hidden = bi_rnn(random_input)\n",
    "\n",
    "# stagger\n",
    "forward_output, backward_output = bi_output[:-2, :, :hidden_size], bi_output[2:, :, hidden_size:]\n",
    "staggered_output = torch.cat((forward_output, backward_output), dim=-1)\n",
    "\n",
    "linear = nn.Linear(hidden_size * 2, output_size)\n",
    "\n",
    "# only predict on words\n",
    "labels = random_input[1:-1]\n",
    "\n",
    "# for language models, use cross-entropy :)\n",
    "loss = nn.MSELoss()\n",
    "output = loss(linear(staggered_output), labels)"
   ]
  },
  {
   "cell_type": "code",
   "execution_count": 114,
   "metadata": {},
   "outputs": [
    {
     "data": {
      "text/plain": [
       "tensor([-0.1310,  1.2490,  0.7213, -1.6344, -0.9395,  1.2265, -0.6407,\n",
       "         0.9623,  0.2786, -1.7617,  0.1556,  0.7590, -1.6019,  0.8350,\n",
       "        -1.8381,  0.2009,  1.1187, -1.4306, -0.6751, -0.9802,  0.3807,\n",
       "        -0.0162, -0.7463, -0.8346, -0.6716,  1.5187,  0.4423, -1.0981,\n",
       "         0.1766,  0.2496, -0.1605,  1.0259,  1.5697,  0.5326,  0.4253,\n",
       "         0.5420, -0.5488, -1.0993,  1.1145,  0.3469, -1.2564,  0.3100,\n",
       "         1.0544, -1.5434, -0.2634,  0.4639, -0.6840, -0.7264, -0.1945,\n",
       "        -0.0794,  0.3472,  1.0317, -0.4769,  1.6535,  1.2891, -0.8668,\n",
       "         0.0804,  0.9067,  1.7320, -1.3870, -0.7153, -0.3140, -0.2806,\n",
       "         0.1906,  0.4073, -0.6895,  1.3528, -0.9858,  0.9516,  0.1824,\n",
       "        -0.9128,  1.5177, -1.7726, -0.0343, -1.9834, -1.8461,  0.3753,\n",
       "        -0.7929,  0.4515, -0.6812, -1.1121,  0.4339, -0.1815, -0.2282,\n",
       "         0.8527,  0.3436, -0.8154, -1.1563, -0.5654, -1.2219,  0.6119,\n",
       "         0.4273,  1.0082,  1.2205, -0.8598,  1.0804,  0.4001,  2.1435,\n",
       "         0.7127, -0.2086, -0.0455, -0.5483,  0.3320,  0.2446,  0.4773,\n",
       "         0.2841, -0.4727,  0.4381, -1.0448,  0.2893,  3.2298,  1.1052,\n",
       "         0.7321,  0.8008,  0.2490,  1.4788,  0.7665, -0.1562,  0.1187,\n",
       "         1.6683,  1.4660,  0.3195, -0.8479,  0.0560,  0.1750,  1.5504,\n",
       "        -1.0375, -1.2479, -0.3220,  1.2787, -0.2277,  0.4140,  0.7167,\n",
       "         0.7764,  1.1990,  2.0933, -0.9025,  1.1170, -0.3881,  0.6058,\n",
       "        -0.3892,  0.2776,  1.6985,  1.1041, -0.5507, -1.3538,  1.2224,\n",
       "        -1.2203,  0.6582,  0.5386,  2.5757, -0.0566, -0.2277,  0.7847,\n",
       "         0.3296,  1.6957, -0.7129, -0.0493, -2.0980,  0.4940,  1.0780,\n",
       "        -0.3824,  0.8742,  1.8552,  0.6371,  0.8868,  0.6058,  0.5643,\n",
       "        -0.1991, -1.6796,  0.1322,  0.1628, -0.1731, -0.4909,  0.0636,\n",
       "        -0.4764, -0.3957, -0.5087, -0.2233, -0.4651, -0.0868, -0.0582,\n",
       "        -0.6076, -1.2738])"
      ]
     },
     "execution_count": 114,
     "metadata": {},
     "output_type": "execute_result"
    }
   ],
   "source": [
    "labels[:,0,0]"
   ]
  },
  {
   "cell_type": "code",
   "execution_count": 115,
   "metadata": {},
   "outputs": [
    {
     "data": {
      "text/plain": [
       "tensor([[ 0.7386,  0.0971],\n",
       "        [-0.0982,  0.7953],\n",
       "        [-0.5999,  0.9743],\n",
       "        [-0.1640,  0.9055],\n",
       "        [ 0.8373, -0.2321],\n",
       "        [ 0.3739,  0.4133],\n",
       "        [-0.6915,  0.9695],\n",
       "        [ 0.6390,  0.5886],\n",
       "        [-0.6501,  0.9582],\n",
       "        [ 0.1407,  0.8171],\n",
       "        [ 0.8286, -0.2354],\n",
       "        [-0.3080,  0.8621],\n",
       "        [-0.2883,  0.9156],\n",
       "        [ 0.8444, -0.0997],\n",
       "        [-0.6454,  0.9186],\n",
       "        [ 0.9089, -0.2900],\n",
       "        [-0.3603,  0.8730],\n",
       "        [-0.4717,  0.9524],\n",
       "        [ 0.8311, -0.0597],\n",
       "        [ 0.2191,  0.4777],\n",
       "        [ 0.5685,  0.3723],\n",
       "        [-0.3541,  0.8962],\n",
       "        [ 0.2221,  0.7858],\n",
       "        [ 0.4555,  0.4396],\n",
       "        [ 0.4333,  0.4114],\n",
       "        [ 0.3502,  0.5759],\n",
       "        [-0.7751,  0.9831],\n",
       "        [ 0.0804,  0.8836],\n",
       "        [ 0.6486,  0.2821],\n",
       "        [-0.2602,  0.8640],\n",
       "        [ 0.0181,  0.8736],\n",
       "        [ 0.1819,  0.7857],\n",
       "        [-0.5716,  0.9648],\n",
       "        [-0.6227,  0.9847],\n",
       "        [-0.0340,  0.9218],\n",
       "        [-0.1772,  0.9079],\n",
       "        [-0.2002,  0.9101],\n",
       "        [ 0.4754,  0.5409],\n",
       "        [ 0.5576,  0.3019],\n",
       "        [-0.6884,  0.9677],\n",
       "        [ 0.1107,  0.8593],\n",
       "        [ 0.6989,  0.1681],\n",
       "        [-0.3554,  0.8920],\n",
       "        [-0.4399,  0.9467],\n",
       "        [ 0.8493, -0.0910],\n",
       "        [-0.0525,  0.7456],\n",
       "        [-0.1951,  0.8968],\n",
       "        [ 0.5395,  0.4954],\n",
       "        [ 0.3476,  0.5109],\n",
       "        [ 0.0856,  0.7607],\n",
       "        [ 0.1061,  0.8041],\n",
       "        [-0.1775,  0.8984],\n",
       "        [-0.4795,  0.9601],\n",
       "        [ 0.5170,  0.6709],\n",
       "        [-0.8280,  0.9868],\n",
       "        [-0.4240,  0.9706],\n",
       "        [ 0.6675,  0.4391],\n",
       "        [-0.2074,  0.8485],\n",
       "        [-0.4052,  0.9575],\n",
       "        [-0.7143,  0.9822],\n",
       "        [ 0.8488, -0.0180],\n",
       "        [ 0.2378,  0.5093],\n",
       "        [ 0.2011,  0.7102],\n",
       "        [ 0.1930,  0.7366],\n",
       "        [-0.1085,  0.8678],\n",
       "        [-0.1392,  0.8908],\n",
       "        [ 0.5274,  0.5647],\n",
       "        [-0.7571,  0.9727],\n",
       "        [ 0.7640,  0.3800],\n",
       "        [-0.6718,  0.9579],\n",
       "        [ 0.2092,  0.8388],\n",
       "        [ 0.5406,  0.4312],\n",
       "        [-0.8011,  0.9720],\n",
       "        [ 0.9113, -0.2814],\n",
       "        [-0.2210,  0.6763],\n",
       "        [ 0.8978, -0.5846],\n",
       "        [ 0.7453, -0.2940],\n",
       "        [-0.4063,  0.8819],\n",
       "        [ 0.6361,  0.4929],\n",
       "        [-0.4145,  0.8932],\n",
       "        [ 0.5927,  0.4581],\n",
       "        [ 0.5334,  0.2797],\n",
       "        [-0.3732,  0.9033],\n",
       "        [ 0.3281,  0.7612],\n",
       "        [ 0.1144,  0.7629],\n",
       "        [-0.4717,  0.9515],\n",
       "        [ 0.0341,  0.8686],\n",
       "        [ 0.5409,  0.3478],\n",
       "        [ 0.5667,  0.1659],\n",
       "        [ 0.2428,  0.5158],\n",
       "        [ 0.6609,  0.2029],\n",
       "        [-0.5041,  0.9308],\n",
       "        [-0.0087,  0.9102],\n",
       "        [-0.5144,  0.9635],\n",
       "        [-0.4795,  0.9676],\n",
       "        [ 0.6762,  0.4641],\n",
       "        [-0.6993,  0.9666],\n",
       "        [ 0.0802,  0.9076],\n",
       "        [-0.8721,  0.9939],\n",
       "        [-0.0603,  0.9367],\n",
       "        [ 0.2393,  0.7548],\n",
       "        [ 0.0282,  0.7924],\n",
       "        [ 0.4081,  0.6260],\n",
       "        [-0.2727,  0.8925],\n",
       "        [ 0.0260,  0.8792],\n",
       "        [-0.2307,  0.9136],\n",
       "        [-0.0151,  0.8736],\n",
       "        [ 0.3798,  0.6604],\n",
       "        [-0.3263,  0.8849],\n",
       "        [ 0.7098,  0.3260],\n",
       "        [-0.3471,  0.8909],\n",
       "        [-0.9558,  0.9989],\n",
       "        [-0.2784,  0.9684],\n",
       "        [-0.2822,  0.9434],\n",
       "        [-0.3216,  0.9477],\n",
       "        [ 0.0409,  0.8833],\n",
       "        [-0.7133,  0.9824],\n",
       "        [-0.1523,  0.9424],\n",
       "        [ 0.2388,  0.7780],\n",
       "        [-0.0786,  0.8585],\n",
       "        [-0.7504,  0.9872],\n",
       "        [-0.5344,  0.9815],\n",
       "        [ 0.0726,  0.8693],\n",
       "        [ 0.5459,  0.4492],\n",
       "        [-0.1490,  0.8373],\n",
       "        [ 0.0262,  0.8694],\n",
       "        [-0.7330,  0.9782],\n",
       "        [ 0.7741,  0.1784],\n",
       "        [ 0.5492,  0.1406],\n",
       "        [ 0.0951,  0.7321],\n",
       "        [-0.6545,  0.9739],\n",
       "        [ 0.4411,  0.7590],\n",
       "        [-0.3322,  0.9075],\n",
       "        [-0.2545,  0.9421],\n",
       "        [-0.3163,  0.9478],\n",
       "        [-0.5232,  0.9733],\n",
       "        [-0.7963,  0.9917],\n",
       "        [ 0.7468,  0.4368],\n",
       "        [-0.7238,  0.9655],\n",
       "        [ 0.5396,  0.7011],\n",
       "        [-0.4672,  0.9236],\n",
       "        [ 0.4703,  0.6967],\n",
       "        [-0.2609,  0.8885],\n",
       "        [-0.7291,  0.9877],\n",
       "        [-0.3522,  0.9618],\n",
       "        [ 0.5182,  0.5090],\n",
       "        [ 0.6526,  0.1074],\n",
       "        [-0.7398,  0.9638],\n",
       "        [ 0.8185,  0.2052],\n",
       "        [-0.5666,  0.9360],\n",
       "        [-0.0584,  0.9253],\n",
       "        [-0.9175,  0.9967],\n",
       "        [ 0.4285,  0.8001],\n",
       "        [ 0.0777,  0.7626],\n",
       "        [-0.4255,  0.9467],\n",
       "        [ 0.0264,  0.8968],\n",
       "        [-0.7739,  0.9849],\n",
       "        [ 0.6825,  0.5066],\n",
       "        [-0.1305,  0.6846],\n",
       "        [ 0.9056, -0.4588],\n",
       "        [-0.5133,  0.9189],\n",
       "        [-0.4052,  0.9634],\n",
       "        [ 0.4490,  0.7069],\n",
       "        [-0.5706,  0.9555],\n",
       "        [-0.7239,  0.9903],\n",
       "        [-0.0652,  0.9347],\n",
       "        [-0.4373,  0.9552],\n",
       "        [-0.1484,  0.9303],\n",
       "        [-0.2241,  0.9171],\n",
       "        [ 0.2892,  0.6529],\n",
       "        [ 0.7917, -0.1744],\n",
       "        [-0.2817,  0.8536],\n",
       "        [ 0.0825,  0.8543],\n",
       "        [ 0.1671,  0.7530],\n",
       "        [ 0.3320,  0.6442],\n",
       "        [-0.0767,  0.8229],\n",
       "        [ 0.4009,  0.6304],\n",
       "        [ 0.1951,  0.6629],\n",
       "        [ 0.3333,  0.6244],\n",
       "        [ 0.1094,  0.7360],\n",
       "        [ 0.3358,  0.6523],\n",
       "        [ 0.0198,  0.7923],\n",
       "        [ 0.1161,  0.7757],\n",
       "        [ 0.4136,  0.4741],\n",
       "        [ 0.6445,  0.1045],\n",
       "        [ 0.0035,  0.6584]])"
      ]
     },
     "execution_count": 115,
     "metadata": {},
     "output_type": "execute_result"
    }
   ],
   "source": [
    "bi_output[:,0]"
   ]
  },
  {
   "cell_type": "code",
   "execution_count": 116,
   "metadata": {},
   "outputs": [
    {
     "data": {
      "text/plain": [
       "tensor(1.00000e-02 *\n",
       "       [ 0.3537,  9.7054])"
      ]
     },
     "execution_count": 116,
     "metadata": {},
     "output_type": "execute_result"
    }
   ],
   "source": [
    "bi_hidden[:,0,0]"
   ]
  },
  {
   "cell_type": "code",
   "execution_count": 117,
   "metadata": {},
   "outputs": [
    {
     "data": {
      "text/plain": [
       "tensor([ 0.7386, -0.0982, -0.5999, -0.1640,  0.8373,  0.3739, -0.6915,\n",
       "         0.6390, -0.6501,  0.1407,  0.8286, -0.3080, -0.2883,  0.8444,\n",
       "        -0.6454,  0.9089, -0.3603, -0.4717,  0.8311,  0.2191,  0.5685,\n",
       "        -0.3541,  0.2221,  0.4555,  0.4333,  0.3502, -0.7751,  0.0804,\n",
       "         0.6486, -0.2602,  0.0181,  0.1819, -0.5716, -0.6227, -0.0340,\n",
       "        -0.1772, -0.2002,  0.4754,  0.5576, -0.6884,  0.1107,  0.6989,\n",
       "        -0.3554, -0.4399,  0.8493, -0.0525, -0.1951,  0.5395,  0.3476,\n",
       "         0.0856,  0.1061, -0.1775, -0.4795,  0.5170, -0.8280, -0.4240,\n",
       "         0.6675, -0.2074, -0.4052, -0.7143,  0.8488,  0.2378,  0.2011,\n",
       "         0.1930, -0.1085, -0.1392,  0.5274, -0.7571,  0.7640, -0.6718,\n",
       "         0.2092,  0.5406, -0.8011,  0.9113, -0.2210,  0.8978,  0.7453,\n",
       "        -0.4063,  0.6361, -0.4145,  0.5927,  0.5334, -0.3732,  0.3281,\n",
       "         0.1144, -0.4717,  0.0341,  0.5409,  0.5667,  0.2428,  0.6609,\n",
       "        -0.5041, -0.0087, -0.5144, -0.4795,  0.6762, -0.6993,  0.0802,\n",
       "        -0.8721, -0.0603,  0.2393,  0.0282,  0.4081, -0.2727,  0.0260,\n",
       "        -0.2307, -0.0151,  0.3798, -0.3263,  0.7098, -0.3471, -0.9558,\n",
       "        -0.2784, -0.2822, -0.3216,  0.0409, -0.7133, -0.1523,  0.2388,\n",
       "        -0.0786, -0.7504, -0.5344,  0.0726,  0.5459, -0.1490,  0.0262,\n",
       "        -0.7330,  0.7741,  0.5492,  0.0951, -0.6545,  0.4411, -0.3322,\n",
       "        -0.2545, -0.3163, -0.5232, -0.7963,  0.7468, -0.7238,  0.5396,\n",
       "        -0.4672,  0.4703, -0.2609, -0.7291, -0.3522,  0.5182,  0.6526,\n",
       "        -0.7398,  0.8185, -0.5666, -0.0584, -0.9175,  0.4285,  0.0777,\n",
       "        -0.4255,  0.0264, -0.7739,  0.6825, -0.1305,  0.9056, -0.5133,\n",
       "        -0.4052,  0.4490, -0.5706, -0.7239, -0.0652, -0.4373, -0.1484,\n",
       "        -0.2241,  0.2892,  0.7917, -0.2817,  0.0825,  0.1671,  0.3320,\n",
       "        -0.0767,  0.4009,  0.1951,  0.3333,  0.1094,  0.3358,  0.0198,\n",
       "         0.1161,  0.4136])"
      ]
     },
     "execution_count": 117,
     "metadata": {},
     "output_type": "execute_result"
    }
   ],
   "source": [
    "forward_output[:,0,0]"
   ]
  },
  {
   "cell_type": "code",
   "execution_count": 118,
   "metadata": {},
   "outputs": [
    {
     "data": {
      "text/plain": [
       "tensor([ 0.9743,  0.9055, -0.2321,  0.4133,  0.9695,  0.5886,  0.9582,\n",
       "         0.8171, -0.2354,  0.8621,  0.9156, -0.0997,  0.9186, -0.2900,\n",
       "         0.8730,  0.9524, -0.0597,  0.4777,  0.3723,  0.8962,  0.7858,\n",
       "         0.4396,  0.4114,  0.5759,  0.9831,  0.8836,  0.2821,  0.8640,\n",
       "         0.8736,  0.7857,  0.9648,  0.9847,  0.9218,  0.9079,  0.9101,\n",
       "         0.5409,  0.3019,  0.9677,  0.8593,  0.1681,  0.8920,  0.9467,\n",
       "        -0.0910,  0.7456,  0.8968,  0.4954,  0.5109,  0.7607,  0.8041,\n",
       "         0.8984,  0.9601,  0.6709,  0.9868,  0.9706,  0.4391,  0.8485,\n",
       "         0.9575,  0.9822, -0.0180,  0.5093,  0.7102,  0.7366,  0.8678,\n",
       "         0.8908,  0.5647,  0.9727,  0.3800,  0.9579,  0.8388,  0.4312,\n",
       "         0.9720, -0.2814,  0.6763, -0.5846, -0.2940,  0.8819,  0.4929,\n",
       "         0.8932,  0.4581,  0.2797,  0.9033,  0.7612,  0.7629,  0.9515,\n",
       "         0.8686,  0.3478,  0.1659,  0.5158,  0.2029,  0.9308,  0.9102,\n",
       "         0.9635,  0.9676,  0.4641,  0.9666,  0.9076,  0.9939,  0.9367,\n",
       "         0.7548,  0.7924,  0.6260,  0.8925,  0.8792,  0.9136,  0.8736,\n",
       "         0.6604,  0.8849,  0.3260,  0.8909,  0.9989,  0.9684,  0.9434,\n",
       "         0.9477,  0.8833,  0.9824,  0.9424,  0.7780,  0.8585,  0.9872,\n",
       "         0.9815,  0.8693,  0.4492,  0.8373,  0.8694,  0.9782,  0.1784,\n",
       "         0.1406,  0.7321,  0.9739,  0.7590,  0.9075,  0.9421,  0.9478,\n",
       "         0.9733,  0.9917,  0.4368,  0.9655,  0.7011,  0.9236,  0.6967,\n",
       "         0.8885,  0.9877,  0.9618,  0.5090,  0.1074,  0.9638,  0.2052,\n",
       "         0.9360,  0.9253,  0.9967,  0.8001,  0.7626,  0.9467,  0.8968,\n",
       "         0.9849,  0.5066,  0.6846, -0.4588,  0.9189,  0.9634,  0.7069,\n",
       "         0.9555,  0.9903,  0.9347,  0.9552,  0.9303,  0.9171,  0.6529,\n",
       "        -0.1744,  0.8536,  0.8543,  0.7530,  0.6442,  0.8229,  0.6304,\n",
       "         0.6629,  0.6244,  0.7360,  0.6523,  0.7923,  0.7757,  0.4741,\n",
       "         0.1045,  0.6584])"
      ]
     },
     "execution_count": 118,
     "metadata": {},
     "output_type": "execute_result"
    }
   ],
   "source": [
    "backward_output[:,0,0]"
   ]
  },
  {
   "cell_type": "code",
   "execution_count": 119,
   "metadata": {},
   "outputs": [
    {
     "data": {
      "text/plain": [
       "tensor(1.7871)"
      ]
     },
     "execution_count": 119,
     "metadata": {},
     "output_type": "execute_result"
    }
   ],
   "source": [
    "output"
   ]
  },
  {
   "cell_type": "code",
   "execution_count": null,
   "metadata": {},
   "outputs": [],
   "source": []
  },
  {
   "cell_type": "code",
   "execution_count": null,
   "metadata": {
    "collapsed": true
   },
   "outputs": [],
   "source": []
  }
 ],
 "metadata": {
  "kernelspec": {
   "display_name": "Python 3",
   "language": "python",
   "name": "python3"
  },
  "language_info": {
   "codemirror_mode": {
    "name": "ipython",
    "version": 3
   },
   "file_extension": ".py",
   "mimetype": "text/x-python",
   "name": "python",
   "nbconvert_exporter": "python",
   "pygments_lexer": "ipython3",
   "version": "3.6.3"
  }
 },
 "nbformat": 4,
 "nbformat_minor": 2
}
